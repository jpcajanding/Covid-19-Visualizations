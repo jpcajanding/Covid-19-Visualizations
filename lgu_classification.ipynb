{
 "cells": [
  {
   "cell_type": "markdown",
   "metadata": {},
   "source": [
    "# Classifying How LGUs are Fairing Against Covid-19\n",
    "\n",
    "This notebooks aims to classify the LGUs in the Philippines, particularly in NCR if they are winning, nearly there and losing, against the fight to Covid-19."
   ]
  },
  {
   "cell_type": "code",
   "execution_count": 1,
   "metadata": {
    "tags": [
     "outputPrepend"
    ]
   },
   "outputs": [],
   "source": [
    "import numpy as np\n",
    "import pandas as pd\n",
    "# import tensorflow as tf"
   ]
  },
  {
   "cell_type": "code",
   "execution_count": 2,
   "metadata": {},
   "outputs": [],
   "source": [
    "#use a python file containing load data function\n",
    "from covid_load_data import load_data"
   ]
  },
  {
   "cell_type": "code",
   "execution_count": 3,
   "metadata": {
    "tags": [
     "outputPrepend"
    ]
   },
   "outputs": [
    {
     "output_type": "execute_result",
     "data": {
      "text/plain": "  Country/Region  2020-01-23 00:00:00  2020-01-24 00:00:00  \\\n0    Afghanistan                  0.0                  0.0   \n1        Albania                  0.0                  0.0   \n2        Algeria                  0.0                  0.0   \n3        Andorra                  0.0                  0.0   \n4         Angola                  0.0                  0.0   \n\n   2020-01-25 00:00:00  2020-01-26 00:00:00  2020-01-27 00:00:00  \\\n0                  0.0                  0.0                  0.0   \n1                  0.0                  0.0                  0.0   \n2                  0.0                  0.0                  0.0   \n3                  0.0                  0.0                  0.0   \n4                  0.0                  0.0                  0.0   \n\n   2020-01-28 00:00:00  2020-01-29 00:00:00  2020-01-30 00:00:00  \\\n0                  0.0                  0.0                  0.0   \n1                  0.0                  0.0                  0.0   \n2                  0.0                  0.0                  0.0   \n3                  0.0                  0.0                  0.0   \n4                  0.0                  0.0                  0.0   \n\n   2020-01-31 00:00:00  ...  2020-05-02 00:00:00  2020-05-03 00:00:00  \\\n0                  0.0  ...                134.0                235.0   \n1                  0.0  ...                  7.0                  6.0   \n2                  0.0  ...                141.0                179.0   \n3                  0.0  ...                  2.0                  1.0   \n4                  0.0  ...                  5.0                  0.0   \n\n   2020-05-04 00:00:00  2020-05-05 00:00:00  2020-05-06 00:00:00  \\\n0                190.0                330.0                168.0   \n1                  8.0                 17.0                 12.0   \n2                174.0                190.0                159.0   \n3                  2.0                  1.0                  0.0   \n4                  0.0                  1.0                  0.0   \n\n   2020-05-07 00:00:00  2020-05-08 00:00:00  2020-05-09 00:00:00  \\\n0                171.0                215.0                255.0   \n1                 10.0                  8.0                  6.0   \n2                185.0                187.0                189.0   \n3                  1.0                  0.0                  2.0   \n4                  0.0                  7.0                  0.0   \n\n   2020-05-10 00:00:00  2020-05-11 00:00:00  \n0                369.0                285.0  \n1                 12.0                  4.0  \n2                165.0                168.0  \n3                  1.0                  0.0  \n4                  2.0                  0.0  \n\n[5 rows x 111 columns]",
      "text/html": "<div>\n<style scoped>\n    .dataframe tbody tr th:only-of-type {\n        vertical-align: middle;\n    }\n\n    .dataframe tbody tr th {\n        vertical-align: top;\n    }\n\n    .dataframe thead th {\n        text-align: right;\n    }\n</style>\n<table border=\"1\" class=\"dataframe\">\n  <thead>\n    <tr style=\"text-align: right;\">\n      <th></th>\n      <th>Country/Region</th>\n      <th>2020-01-23 00:00:00</th>\n      <th>2020-01-24 00:00:00</th>\n      <th>2020-01-25 00:00:00</th>\n      <th>2020-01-26 00:00:00</th>\n      <th>2020-01-27 00:00:00</th>\n      <th>2020-01-28 00:00:00</th>\n      <th>2020-01-29 00:00:00</th>\n      <th>2020-01-30 00:00:00</th>\n      <th>2020-01-31 00:00:00</th>\n      <th>...</th>\n      <th>2020-05-02 00:00:00</th>\n      <th>2020-05-03 00:00:00</th>\n      <th>2020-05-04 00:00:00</th>\n      <th>2020-05-05 00:00:00</th>\n      <th>2020-05-06 00:00:00</th>\n      <th>2020-05-07 00:00:00</th>\n      <th>2020-05-08 00:00:00</th>\n      <th>2020-05-09 00:00:00</th>\n      <th>2020-05-10 00:00:00</th>\n      <th>2020-05-11 00:00:00</th>\n    </tr>\n  </thead>\n  <tbody>\n    <tr>\n      <th>0</th>\n      <td>Afghanistan</td>\n      <td>0.0</td>\n      <td>0.0</td>\n      <td>0.0</td>\n      <td>0.0</td>\n      <td>0.0</td>\n      <td>0.0</td>\n      <td>0.0</td>\n      <td>0.0</td>\n      <td>0.0</td>\n      <td>...</td>\n      <td>134.0</td>\n      <td>235.0</td>\n      <td>190.0</td>\n      <td>330.0</td>\n      <td>168.0</td>\n      <td>171.0</td>\n      <td>215.0</td>\n      <td>255.0</td>\n      <td>369.0</td>\n      <td>285.0</td>\n    </tr>\n    <tr>\n      <th>1</th>\n      <td>Albania</td>\n      <td>0.0</td>\n      <td>0.0</td>\n      <td>0.0</td>\n      <td>0.0</td>\n      <td>0.0</td>\n      <td>0.0</td>\n      <td>0.0</td>\n      <td>0.0</td>\n      <td>0.0</td>\n      <td>...</td>\n      <td>7.0</td>\n      <td>6.0</td>\n      <td>8.0</td>\n      <td>17.0</td>\n      <td>12.0</td>\n      <td>10.0</td>\n      <td>8.0</td>\n      <td>6.0</td>\n      <td>12.0</td>\n      <td>4.0</td>\n    </tr>\n    <tr>\n      <th>2</th>\n      <td>Algeria</td>\n      <td>0.0</td>\n      <td>0.0</td>\n      <td>0.0</td>\n      <td>0.0</td>\n      <td>0.0</td>\n      <td>0.0</td>\n      <td>0.0</td>\n      <td>0.0</td>\n      <td>0.0</td>\n      <td>...</td>\n      <td>141.0</td>\n      <td>179.0</td>\n      <td>174.0</td>\n      <td>190.0</td>\n      <td>159.0</td>\n      <td>185.0</td>\n      <td>187.0</td>\n      <td>189.0</td>\n      <td>165.0</td>\n      <td>168.0</td>\n    </tr>\n    <tr>\n      <th>3</th>\n      <td>Andorra</td>\n      <td>0.0</td>\n      <td>0.0</td>\n      <td>0.0</td>\n      <td>0.0</td>\n      <td>0.0</td>\n      <td>0.0</td>\n      <td>0.0</td>\n      <td>0.0</td>\n      <td>0.0</td>\n      <td>...</td>\n      <td>2.0</td>\n      <td>1.0</td>\n      <td>2.0</td>\n      <td>1.0</td>\n      <td>0.0</td>\n      <td>1.0</td>\n      <td>0.0</td>\n      <td>2.0</td>\n      <td>1.0</td>\n      <td>0.0</td>\n    </tr>\n    <tr>\n      <th>4</th>\n      <td>Angola</td>\n      <td>0.0</td>\n      <td>0.0</td>\n      <td>0.0</td>\n      <td>0.0</td>\n      <td>0.0</td>\n      <td>0.0</td>\n      <td>0.0</td>\n      <td>0.0</td>\n      <td>0.0</td>\n      <td>...</td>\n      <td>5.0</td>\n      <td>0.0</td>\n      <td>0.0</td>\n      <td>1.0</td>\n      <td>0.0</td>\n      <td>0.0</td>\n      <td>7.0</td>\n      <td>0.0</td>\n      <td>2.0</td>\n      <td>0.0</td>\n    </tr>\n  </tbody>\n</table>\n<p>5 rows × 111 columns</p>\n</div>"
     },
     "metadata": {},
     "execution_count": 3
    }
   ],
   "source": [
    "df = load_data('confirmed', update=False) #for faster runtime, set to false. update only once necessary\n",
    "df = (df- df.shift(1)).iloc[1:].transpose().reset_index()\n",
    "df.head()"
   ]
  },
  {
   "cell_type": "code",
   "execution_count": 7,
   "metadata": {},
   "outputs": [
    {
     "output_type": "execute_result",
     "data": {
      "text/plain": "Index(['Country', 'Label'], dtype='object')"
     },
     "metadata": {},
     "execution_count": 7
    }
   ],
   "source": [
    "labels = pd.read_csv('datafiles\\country_labels.csv')\n",
    "labels.columns"
   ]
  },
  {
   "cell_type": "code",
   "execution_count": 10,
   "metadata": {},
   "outputs": [
    {
     "output_type": "execute_result",
     "data": {
      "text/plain": "    Country/Region  2020-01-23 00:00:00  2020-01-24 00:00:00  \\\n0          Albania                  0.0                  0.0   \n1          Andorra                  0.0                  0.0   \n2        Argentina                  0.0                  0.0   \n3        Australia                  0.0                  0.0   \n4          Austria                  0.0                  0.0   \n..             ...                  ...                  ...   \n87         Ukraine                  0.0                  0.0   \n88  United Kingdom                  0.0                  0.0   \n89         Uruguay                  0.0                  0.0   \n90      Uzbekistan                  0.0                  0.0   \n91         Vietnam                  2.0                  0.0   \n\n    2020-01-25 00:00:00  2020-01-26 00:00:00  2020-01-27 00:00:00  \\\n0                   0.0                  0.0                  0.0   \n1                   0.0                  0.0                  0.0   \n2                   0.0                  0.0                  0.0   \n3                   0.0                  4.0                  1.0   \n4                   0.0                  0.0                  0.0   \n..                  ...                  ...                  ...   \n87                  0.0                  0.0                  0.0   \n88                  0.0                  0.0                  0.0   \n89                  0.0                  0.0                  0.0   \n90                  0.0                  0.0                  0.0   \n91                  0.0                  0.0                  0.0   \n\n    2020-01-28 00:00:00  2020-01-29 00:00:00  2020-01-30 00:00:00  \\\n0                   0.0                  0.0                  0.0   \n1                   0.0                  0.0                  0.0   \n2                   0.0                  0.0                  0.0   \n3                   0.0                  1.0                  3.0   \n4                   0.0                  0.0                  0.0   \n..                  ...                  ...                  ...   \n87                  0.0                  0.0                  0.0   \n88                  0.0                  0.0                  0.0   \n89                  0.0                  0.0                  0.0   \n90                  0.0                  0.0                  0.0   \n91                  0.0                  0.0                  0.0   \n\n    2020-01-31 00:00:00  ...  2020-05-04 00:00:00  2020-05-05 00:00:00  \\\n0                   0.0  ...                  8.0                 17.0   \n1                   0.0  ...                  2.0                  1.0   \n2                   0.0  ...                104.0                133.0   \n3                   0.0  ...                 25.0                 28.0   \n4                   0.0  ...                 24.0                 29.0   \n..                  ...  ...                  ...                  ...   \n87                  0.0  ...                418.0                366.0   \n88                  2.0  ...               3990.0               4411.0   \n89                  0.0  ...                  2.0                 13.0   \n90                  0.0  ...                 40.0                 18.0   \n91                  0.0  ...                  0.0                  0.0   \n\n    2020-05-06 00:00:00  2020-05-07 00:00:00  2020-05-08 00:00:00  \\\n0                  12.0                 10.0                  8.0   \n1                   0.0                  1.0                  0.0   \n2                 188.0                163.0                240.0   \n3                  19.0                 19.0                  5.0   \n4                  34.0                 68.0                 22.0   \n..                  ...                  ...                  ...   \n87                487.0                507.0                504.0   \n88               6116.0               5618.0               4652.0   \n89                  3.0                 11.0                 10.0   \n90                 26.0                 65.0                 27.0   \n91                  0.0                 17.0                  0.0   \n\n    2020-05-09 00:00:00  2020-05-10 00:00:00  2020-05-11 00:00:00  \\\n0                   6.0                 12.0                  4.0   \n1                   2.0                  1.0                  0.0   \n2                 165.0                258.0                244.0   \n3                  21.0                  9.0                 22.0   \n4                  59.0                 38.0                 11.0   \n..                  ...                  ...                  ...   \n87                515.0                522.0                416.0   \n88               3896.0               3924.0               3883.0   \n89                  8.0                  5.0                  4.0   \n90                 24.0                 69.0                 68.0   \n91                  0.0                  0.0                  0.0   \n\n           Country    Label  \n0          Albania   Nearly  \n1          Andorra  Winning  \n2        Argentina   Losing  \n3        Australia  Winning  \n4          Austria  Winning  \n..             ...      ...  \n87         Ukraine   Losing  \n88  United Kingdom   Losing  \n89         Uruguay   Nearly  \n90      Uzbekistan   Nearly  \n91         Vietnam  Winning  \n\n[92 rows x 113 columns]",
      "text/html": "<div>\n<style scoped>\n    .dataframe tbody tr th:only-of-type {\n        vertical-align: middle;\n    }\n\n    .dataframe tbody tr th {\n        vertical-align: top;\n    }\n\n    .dataframe thead th {\n        text-align: right;\n    }\n</style>\n<table border=\"1\" class=\"dataframe\">\n  <thead>\n    <tr style=\"text-align: right;\">\n      <th></th>\n      <th>Country/Region</th>\n      <th>2020-01-23 00:00:00</th>\n      <th>2020-01-24 00:00:00</th>\n      <th>2020-01-25 00:00:00</th>\n      <th>2020-01-26 00:00:00</th>\n      <th>2020-01-27 00:00:00</th>\n      <th>2020-01-28 00:00:00</th>\n      <th>2020-01-29 00:00:00</th>\n      <th>2020-01-30 00:00:00</th>\n      <th>2020-01-31 00:00:00</th>\n      <th>...</th>\n      <th>2020-05-04 00:00:00</th>\n      <th>2020-05-05 00:00:00</th>\n      <th>2020-05-06 00:00:00</th>\n      <th>2020-05-07 00:00:00</th>\n      <th>2020-05-08 00:00:00</th>\n      <th>2020-05-09 00:00:00</th>\n      <th>2020-05-10 00:00:00</th>\n      <th>2020-05-11 00:00:00</th>\n      <th>Country</th>\n      <th>Label</th>\n    </tr>\n  </thead>\n  <tbody>\n    <tr>\n      <th>0</th>\n      <td>Albania</td>\n      <td>0.0</td>\n      <td>0.0</td>\n      <td>0.0</td>\n      <td>0.0</td>\n      <td>0.0</td>\n      <td>0.0</td>\n      <td>0.0</td>\n      <td>0.0</td>\n      <td>0.0</td>\n      <td>...</td>\n      <td>8.0</td>\n      <td>17.0</td>\n      <td>12.0</td>\n      <td>10.0</td>\n      <td>8.0</td>\n      <td>6.0</td>\n      <td>12.0</td>\n      <td>4.0</td>\n      <td>Albania</td>\n      <td>Nearly</td>\n    </tr>\n    <tr>\n      <th>1</th>\n      <td>Andorra</td>\n      <td>0.0</td>\n      <td>0.0</td>\n      <td>0.0</td>\n      <td>0.0</td>\n      <td>0.0</td>\n      <td>0.0</td>\n      <td>0.0</td>\n      <td>0.0</td>\n      <td>0.0</td>\n      <td>...</td>\n      <td>2.0</td>\n      <td>1.0</td>\n      <td>0.0</td>\n      <td>1.0</td>\n      <td>0.0</td>\n      <td>2.0</td>\n      <td>1.0</td>\n      <td>0.0</td>\n      <td>Andorra</td>\n      <td>Winning</td>\n    </tr>\n    <tr>\n      <th>2</th>\n      <td>Argentina</td>\n      <td>0.0</td>\n      <td>0.0</td>\n      <td>0.0</td>\n      <td>0.0</td>\n      <td>0.0</td>\n      <td>0.0</td>\n      <td>0.0</td>\n      <td>0.0</td>\n      <td>0.0</td>\n      <td>...</td>\n      <td>104.0</td>\n      <td>133.0</td>\n      <td>188.0</td>\n      <td>163.0</td>\n      <td>240.0</td>\n      <td>165.0</td>\n      <td>258.0</td>\n      <td>244.0</td>\n      <td>Argentina</td>\n      <td>Losing</td>\n    </tr>\n    <tr>\n      <th>3</th>\n      <td>Australia</td>\n      <td>0.0</td>\n      <td>0.0</td>\n      <td>0.0</td>\n      <td>4.0</td>\n      <td>1.0</td>\n      <td>0.0</td>\n      <td>1.0</td>\n      <td>3.0</td>\n      <td>0.0</td>\n      <td>...</td>\n      <td>25.0</td>\n      <td>28.0</td>\n      <td>19.0</td>\n      <td>19.0</td>\n      <td>5.0</td>\n      <td>21.0</td>\n      <td>9.0</td>\n      <td>22.0</td>\n      <td>Australia</td>\n      <td>Winning</td>\n    </tr>\n    <tr>\n      <th>4</th>\n      <td>Austria</td>\n      <td>0.0</td>\n      <td>0.0</td>\n      <td>0.0</td>\n      <td>0.0</td>\n      <td>0.0</td>\n      <td>0.0</td>\n      <td>0.0</td>\n      <td>0.0</td>\n      <td>0.0</td>\n      <td>...</td>\n      <td>24.0</td>\n      <td>29.0</td>\n      <td>34.0</td>\n      <td>68.0</td>\n      <td>22.0</td>\n      <td>59.0</td>\n      <td>38.0</td>\n      <td>11.0</td>\n      <td>Austria</td>\n      <td>Winning</td>\n    </tr>\n    <tr>\n      <th>...</th>\n      <td>...</td>\n      <td>...</td>\n      <td>...</td>\n      <td>...</td>\n      <td>...</td>\n      <td>...</td>\n      <td>...</td>\n      <td>...</td>\n      <td>...</td>\n      <td>...</td>\n      <td>...</td>\n      <td>...</td>\n      <td>...</td>\n      <td>...</td>\n      <td>...</td>\n      <td>...</td>\n      <td>...</td>\n      <td>...</td>\n      <td>...</td>\n      <td>...</td>\n      <td>...</td>\n    </tr>\n    <tr>\n      <th>87</th>\n      <td>Ukraine</td>\n      <td>0.0</td>\n      <td>0.0</td>\n      <td>0.0</td>\n      <td>0.0</td>\n      <td>0.0</td>\n      <td>0.0</td>\n      <td>0.0</td>\n      <td>0.0</td>\n      <td>0.0</td>\n      <td>...</td>\n      <td>418.0</td>\n      <td>366.0</td>\n      <td>487.0</td>\n      <td>507.0</td>\n      <td>504.0</td>\n      <td>515.0</td>\n      <td>522.0</td>\n      <td>416.0</td>\n      <td>Ukraine</td>\n      <td>Losing</td>\n    </tr>\n    <tr>\n      <th>88</th>\n      <td>United Kingdom</td>\n      <td>0.0</td>\n      <td>0.0</td>\n      <td>0.0</td>\n      <td>0.0</td>\n      <td>0.0</td>\n      <td>0.0</td>\n      <td>0.0</td>\n      <td>0.0</td>\n      <td>2.0</td>\n      <td>...</td>\n      <td>3990.0</td>\n      <td>4411.0</td>\n      <td>6116.0</td>\n      <td>5618.0</td>\n      <td>4652.0</td>\n      <td>3896.0</td>\n      <td>3924.0</td>\n      <td>3883.0</td>\n      <td>United Kingdom</td>\n      <td>Losing</td>\n    </tr>\n    <tr>\n      <th>89</th>\n      <td>Uruguay</td>\n      <td>0.0</td>\n      <td>0.0</td>\n      <td>0.0</td>\n      <td>0.0</td>\n      <td>0.0</td>\n      <td>0.0</td>\n      <td>0.0</td>\n      <td>0.0</td>\n      <td>0.0</td>\n      <td>...</td>\n      <td>2.0</td>\n      <td>13.0</td>\n      <td>3.0</td>\n      <td>11.0</td>\n      <td>10.0</td>\n      <td>8.0</td>\n      <td>5.0</td>\n      <td>4.0</td>\n      <td>Uruguay</td>\n      <td>Nearly</td>\n    </tr>\n    <tr>\n      <th>90</th>\n      <td>Uzbekistan</td>\n      <td>0.0</td>\n      <td>0.0</td>\n      <td>0.0</td>\n      <td>0.0</td>\n      <td>0.0</td>\n      <td>0.0</td>\n      <td>0.0</td>\n      <td>0.0</td>\n      <td>0.0</td>\n      <td>...</td>\n      <td>40.0</td>\n      <td>18.0</td>\n      <td>26.0</td>\n      <td>65.0</td>\n      <td>27.0</td>\n      <td>24.0</td>\n      <td>69.0</td>\n      <td>68.0</td>\n      <td>Uzbekistan</td>\n      <td>Nearly</td>\n    </tr>\n    <tr>\n      <th>91</th>\n      <td>Vietnam</td>\n      <td>2.0</td>\n      <td>0.0</td>\n      <td>0.0</td>\n      <td>0.0</td>\n      <td>0.0</td>\n      <td>0.0</td>\n      <td>0.0</td>\n      <td>0.0</td>\n      <td>0.0</td>\n      <td>...</td>\n      <td>0.0</td>\n      <td>0.0</td>\n      <td>0.0</td>\n      <td>17.0</td>\n      <td>0.0</td>\n      <td>0.0</td>\n      <td>0.0</td>\n      <td>0.0</td>\n      <td>Vietnam</td>\n      <td>Winning</td>\n    </tr>\n  </tbody>\n</table>\n<p>92 rows × 113 columns</p>\n</div>"
     },
     "metadata": {},
     "execution_count": 10
    }
   ],
   "source": [
    "df.merge(labels, how='inner', left_on='Country/Region', right_on='Country')"
   ]
  },
  {
   "cell_type": "code",
   "execution_count": null,
   "metadata": {},
   "outputs": [],
   "source": []
  }
 ],
 "metadata": {
  "language_info": {
   "codemirror_mode": {
    "name": "ipython",
    "version": 3
   },
   "file_extension": ".py",
   "mimetype": "text/x-python",
   "name": "python",
   "nbconvert_exporter": "python",
   "pygments_lexer": "ipython3",
   "version": "3.7.6-final"
  },
  "orig_nbformat": 2,
  "kernelspec": {
   "name": "python3",
   "display_name": "Python 3"
  }
 },
 "nbformat": 4,
 "nbformat_minor": 2
}