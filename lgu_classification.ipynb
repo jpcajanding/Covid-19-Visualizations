{
 "cells": [
  {
   "cell_type": "markdown",
   "metadata": {},
   "source": [
    "# Classifying How LGUs are Fairing Against Covid-19\n",
    "\n",
    "This notebooks aims to classify the LGUs in the Philippines, particularly in NCR if they are winning, nearly there and losing, against the fight to Covid-19."
   ]
  },
  {
   "cell_type": "code",
   "execution_count": 46,
   "metadata": {
    "tags": [
     "outputPrepend"
    ]
   },
   "outputs": [],
   "source": [
    "import numpy as np\n",
    "import pandas as pd\n",
    "# import tensorflow as tf\n",
    "\n",
    "from sklearn import preprocessing\n",
    "from sklearn.model_selection import train_test_split\n",
    "from sklearn import svm\n",
    "from sklearn.metrics import accuracy_score"
   ]
  },
  {
   "cell_type": "code",
   "execution_count": 16,
   "metadata": {},
   "outputs": [],
   "source": [
    "#use a python file containing load data function\n",
    "from covid_load_data import load_data"
   ]
  },
  {
   "cell_type": "code",
   "execution_count": 57,
   "metadata": {
    "tags": [
     "outputPrepend"
    ]
   },
   "outputs": [],
   "source": [
    "df = load_data('confirmed', update=False) #for faster runtime, set to false. update only once necessary\n",
    "df = (df- df.shift(1)).iloc[1:].transpose().reset_index()\n",
    "\n",
    "labels = pd.read_csv('datafiles\\country_labels.csv')"
   ]
  },
  {
   "cell_type": "code",
   "execution_count": 58,
   "metadata": {},
   "outputs": [],
   "source": [
    "df = df.merge(labels, how='inner', left_on='Country/Region', right_on='Country').set_index(keys='Country/Region').drop(columns=['Country'])\n",
    "df = df.loc[:, pd.Timestamp('2020-03-15'):]\n",
    "\n",
    "x, y = df.drop(columns=['Label']), df['Label']"
   ]
  },
  {
   "cell_type": "code",
   "execution_count": 59,
   "metadata": {},
   "outputs": [],
   "source": [
    "le = preprocessing.LabelEncoder()\n",
    "y = le.fit_transform(y)\n"
   ]
  },
  {
   "cell_type": "code",
   "execution_count": 34,
   "metadata": {},
   "outputs": [
    {
     "output_type": "execute_result",
     "data": {
      "text/plain": "array([[0.00111421, 0.00278379, 0.00113443, ..., 0.00055468, 0.00190545,\n        0.00461302],\n       [0.        , 0.00030931, 0.01049348, ..., 0.00018489, 0.00090736,\n        0.00427131],\n       [0.00306407, 0.00340241, 0.00340329, ..., 0.01525377, 0.02422648,\n        0.02511533],\n       ...,\n       [0.0005571 , 0.00649552, 0.00595576, ..., 0.00073958, 0.0012703 ,\n        0.00461302],\n       [0.00027855, 0.00154655, 0.00113443, ..., 0.00221873, 0.0070774 ,\n        0.0100803 ],\n       [0.00083565, 0.00154655, 0.00141804, ..., 0.        , 0.00081662,\n        0.00427131]])"
     },
     "metadata": {},
     "execution_count": 34
    }
   ],
   "source": [
    "scaler = preprocessing.MinMaxScaler()\n",
    "x = scaler.fit_transform(x)\n"
   ]
  },
  {
   "cell_type": "code",
   "execution_count": 60,
   "metadata": {},
   "outputs": [],
   "source": [
    "x_train, x_test, y_train, y_test = train_test_split(x, y, test_size=0.33, random_state=5)"
   ]
  },
  {
   "cell_type": "code",
   "execution_count": null,
   "metadata": {},
   "outputs": [],
   "source": []
  }
 ],
 "metadata": {
  "language_info": {
   "codemirror_mode": {
    "name": "ipython",
    "version": 3
   },
   "file_extension": ".py",
   "mimetype": "text/x-python",
   "name": "python",
   "nbconvert_exporter": "python",
   "pygments_lexer": "ipython3",
   "version": "3.7.6-final"
  },
  "orig_nbformat": 2,
  "kernelspec": {
   "name": "python3",
   "display_name": "Python 3"
  }
 },
 "nbformat": 4,
 "nbformat_minor": 2
}