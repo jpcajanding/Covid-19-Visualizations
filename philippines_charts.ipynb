{
 "cells": [
  {
   "cell_type": "code",
   "execution_count": null,
   "metadata": {},
   "outputs": [],
   "source": [
    "import numpy as np\n",
    "import pandas as pd\n",
    "import matplotlib.pyplot as plt\n",
    "import matplotlib.ticker as ticker\n",
    "import matplotlib.dates as mpl_dates\n",
    "from sklearn.linear_model import LinearRegression"
   ]
  },
  {
   "cell_type": "markdown",
   "metadata": {},
   "source": [
    "# Visualizing and Analyzing Covid-19 Data for the Philippines"
   ]
  },
  {
   "cell_type": "markdown",
   "metadata": {},
   "source": [
    "Disclaimer: Anything published in here are primarily based on data only and are done without any expertise in medicine or epidemiology. This is published for learning purposes only.\n",
    "\n",
    "Data comes from the officially published data of the Department of Health in their data dump at https://drive.google.com/open?id=10VkiUA8x7TS2jkibhSZK1gmWxFM-EoZP and is subject to their Policy and Confidentiality Guidelines."
   ]
  },
  {
   "cell_type": "markdown",
   "metadata": {},
   "source": [
    "Load the data from a csv file in the data folder (updated every 7 PM Philippine Time) and examine the contents"
   ]
  },
  {
   "cell_type": "code",
   "execution_count": null,
   "metadata": {},
   "outputs": [],
   "source": [
    "df = pd.read_csv('datafiles\\doh\\DOH COVID Data Drop_ 20200505 - 05 Case Information.csv',\n",
    "                 parse_dates=['DateRepConf', 'DateRecover', 'DateDied', 'DateRepRem'])\n",
    "\n",
    "df.head(5)"
   ]
  },
  {
   "cell_type": "markdown",
   "metadata": {},
   "source": [
    "The DOH database lists the inflormation per person basis. The code below creates a dataframe with the number of confirmed cases per day as well as the number of people who recovered and died."
   ]
  },
  {
   "cell_type": "code",
   "execution_count": null,
   "metadata": {},
   "outputs": [],
   "source": [
    "def confirmed_removed_group(df, group_column, removed_column):\n",
    "    df_result = pd.DataFrame(df.groupby(group_column)[group_column].count().reset_index(name='Confirmed'))\n",
    "    df_removed = df[df['RemovalType'].notna()]\n",
    "    df_removed = df_removed[['RemovalType', removed_column]]\n",
    "    df_removed = pd.DataFrame(df_removed.groupby([removed_column, 'RemovalType']).size().reset_index(name='count'))\n",
    "    df_deaths = df_removed[df_removed['RemovalType'] == 'Died'].drop(columns='RemovalType').rename(columns={'count': 'Death'})\n",
    "    df_recovered = df_removed[df_removed['RemovalType'] == 'Recovered'].drop(columns='RemovalType').rename(columns={'count': 'Recovered'})\n",
    "    df_result = pd.merge(df_result, df_deaths, how='left', left_on=group_column, right_on=removed_column)\n",
    "    df_result = pd.merge(df_result, df_recovered, how='left', left_on=group_column, right_on=removed_column)\n",
    "    return df_result"
   ]
  },
  {
   "cell_type": "code",
   "execution_count": null,
   "metadata": {},
   "outputs": [],
   "source": [
    "day_case = confirmed_removed_group(df, 'DateRepConf', 'DateRepRem')\n",
    "day_case = day_case.drop(columns=['DateRepRem_x', 'DateRepRem_y']).set_index('DateRepConf').fillna(0)\n",
    "\n",
    "# get the dates and values of the 3 highest confirmed values and the values for the last two days\n",
    "annotate_bars = day_case.nlargest(3, ['Confirmed']).append(day_case.tail(2))\n",
    "day_case.head(5)"
   ]
  },
  {
   "cell_type": "code",
   "execution_count": null,
   "metadata": {},
   "outputs": [],
   "source": [
    "fig = plt.figure(figsize=(12,5))\n",
    "ax = plt.axes()\n",
    "ax.set_facecolor('#F0EFE7')\n",
    "plt.title('CoVid-19 Cases in the Philippines')\n",
    "plt.fill_between(day_case.index.date, day_case['Confirmed'].cumsum(),\n",
    "                 (day_case['Confirmed'].cumsum()-(day_case['Death'].cumsum()+day_case['Recovered'].cumsum())),\n",
    "                 label='Confirmed',\n",
    "                 color='#f9ad6a')\n",
    "plt.annotate('%0.f' % day_case['Confirmed'].cumsum()[-1],\n",
    "             xy=(1, day_case['Confirmed'].cumsum()[-1]),\n",
    "             xytext=(1, 0),\n",
    "             xycoords=('axes fraction', 'data'), textcoords='offset points', fontsize= 7)\n",
    "plt.fill_between(day_case.index.date,\n",
    "                 (day_case['Confirmed'].cumsum() - (day_case['Death'].cumsum() + day_case['Recovered'].cumsum())), 0,\n",
    "                 label='Active',\n",
    "                 color='#f9e07f')\n",
    "plt.annotate('%0.f' % (day_case['Confirmed'].cumsum()-(day_case['Death'].cumsum()+day_case['Recovered'].cumsum()))[-1],\n",
    "             xy=(1, (day_case['Confirmed'].cumsum()-(day_case['Death'].cumsum()+day_case['Recovered'].cumsum()))[-1]),\n",
    "             xytext=(1, 0),\n",
    "             xycoords=('axes fraction', 'data'), textcoords='offset points', fontsize= 7)\n",
    "ax.bar(day_case.index.date, day_case['Confirmed'],\n",
    "       label='Cases per Day',\n",
    "       color='#d46c4e')\n",
    "for i in range(3):\n",
    "    plt.annotate('%0.f' % annotate_bars['Confirmed'][i],\n",
    "                 xy=(annotate_bars.index[i], annotate_bars['Confirmed'][i]),\n",
    "                 xytext=(-6.5,1),\n",
    "                 xycoords=('data', 'data'), textcoords='offset points', fontsize=7, color='#000000')\n",
    "plt.xlim(day_case.index[12],day_case.index[-1])\n",
    "plt.xticks([day_case.index[20], day_case.index[-1]])\n",
    "plt.ylim(0,np.ceil((day_case['Confirmed'].cumsum()[-1])/1000)*1000)\n",
    "ax.yaxis.set_major_locator(ticker.MultipleLocator((np.ceil((day_case['Confirmed'].cumsum()[-1])/1000)*1000)/3))\n",
    "ax.xaxis_date()\n",
    "ax.xaxis.set_major_formatter(mpl_dates.DateFormatter('%b %d'))  # format dates as Month-Day eg Mar 01\n",
    "plt.xlim(pd.Timestamp('2020-03-01'), day_case.index[-1])\n",
    "plt.xticks(pd.date_range(pd.Timestamp('2020-03-01'), day_case.index[-1] + pd.DateOffset(1),\n",
    "                         freq='15D', closed='right'))\n",
    "plt.legend(loc='upper center',\n",
    "           ncol=3,\n",
    "           fontsize=10,\n",
    "           frameon=False)"
   ]
  },
  {
   "cell_type": "markdown",
   "metadata": {},
   "source": [
    "## Are we flattening the curve?\n",
    "\n",
    "The orange graph above is the usual graph we're seeing from the different news agencies, the cummulative number of cases we have everyday. This graph alone won't tell us anything if we are indeed flattening the curve. What we can analyze from it is that more than two weeks after an Enhanced Community Quarantine was enforced in the whole Luzon, the cummulative number of cases stopped from being a steep exponential curve, into a more linear curve. Telling that somehow, we are controlling the growth of cases.\n",
    "\n",
    "What we should be more concerned about is the yellow area and the orange area. The wider the orange area we see in the graph means more and more cases are being resolved. Unlike the orange graph, the yellow graph can be flattened and this should be the graph we are looking at to see if we are indeed flattening the curve."
   ]
  },
  {
   "cell_type": "code",
   "execution_count": null,
   "metadata": {},
   "outputs": [],
   "source": [
    "fig2 = plt.figure(figsize=(12,5))\n",
    "ax = plt.axes()\n",
    "plt.title('Confirmed Cases per Day')\n",
    "ax.set_facecolor('#F0EFE7')\n",
    "\n",
    "ax.bar(day_case.index.date, day_case['Confirmed'],\n",
    "              color='#43978d')  # was 37AB85\n",
    "for i in range(5):\n",
    "    plt.annotate('%0.f' % annotate_bars['Confirmed'][i],\n",
    "                 xy=(annotate_bars.index[i], annotate_bars['Confirmed'][i]),\n",
    "                 xytext=(-6.5, 1),\n",
    "                 xycoords=('data', 'data'), textcoords='offset points', fontsize=7)\n",
    "\n",
    "plt.plot(day_case.index.date, day_case['Confirmed'].rolling(window= 7).mean(),\n",
    "         linewidth=2,\n",
    "         label='7-Day Moving Average',\n",
    "         color='#d46c4e')  # was FFB052\n",
    "plt.plot(day_case.index.date, day_case['Death'].cumsum(),\n",
    "         linestyle= 'dotted',\n",
    "         linewidth= 1,\n",
    "         color= '#000000',\n",
    "         label= 'Deaths')\n",
    "plt.annotate('%0.f' % day_case['Death'].cumsum()[-1],\n",
    "             xy=(day_case.index[-1], day_case['Death'].cumsum()[-1]),\n",
    "             xytext=(-6.5, 1),\n",
    "             xycoords=('data', 'data'), textcoords='offset points', fontsize= 7)\n",
    "plt.plot(day_case.index.date, day_case['Recovered'].cumsum(),\n",
    "         linestyle='--',\n",
    "         linewidth=1,\n",
    "         color='#000000',\n",
    "         label='Recoveries')\n",
    "plt.annotate('%0.f' % day_case['Recovered'].cumsum()[-1],\n",
    "             xy=(day_case.index[-1], day_case['Recovered'].cumsum()[-1]),\n",
    "             xytext=(-6.5, 1),\n",
    "             xycoords=('data', 'data'), textcoords='offset points', fontsize= 7)\n",
    "ax.xaxis_date()\n",
    "ax.xaxis.set_major_formatter(mpl_dates.DateFormatter('%b %d'))  # format dates as Month-Day eg Mar 01\n",
    "plt.xlim(pd.Timestamp('2020-03-01'), day_case.index[-1] + pd.DateOffset(1))\n",
    "plt.xticks(pd.date_range(pd.Timestamp('2020-03-01'), day_case.index[-1] + pd.DateOffset(1),\n",
    "                         freq='15D', closed='right'))\n",
    "plt.legend(loc='upper left',\n",
    "           fancybox=True,\n",
    "           fontsize=10,\n",
    "           facecolor='#FFFFFF')"
   ]
  },
  {
   "cell_type": "markdown",
   "metadata": {},
   "source": [
    "The graph above shows our daily cases from March 1. April 15 is a very important date for our country's fight against Covid-19 as this is the day when we have more people who recovered from the disease compared to those who died. There are a lot of issues regarding this data, but we will not concern ourself with those. In the last six days, we had reported the number of cases which are near to each other in values. What we want for this graph is to get the number of cases per day to go smaller and eventually has zero for consecutive days. also, the number of recoveries should continue its exponential growth upward with the number of deaths being minimized to a slow rising linear graph."
   ]
  },
  {
   "cell_type": "markdown",
   "metadata": {},
   "source": [
    "## Demographics of Cases\n",
    "\n",
    "Let's look at the extreme cases we had in our country starting from the oldest and youngest confirmed cases. "
   ]
  },
  {
   "cell_type": "code",
   "execution_count": null,
   "metadata": {},
   "outputs": [],
   "source": [
    "print('Oldest Patient is {0} year old {1}, confirmed on {2}.'.format(df['Age'].loc[df['Age'].idxmax()],\n",
    "                                                                     df['Sex'].loc[df['Age'].idxmax()],\n",
    "                                                                     df['DateRepConf'].loc[df['Age'].idxmax()].date()))\n",
    "print('Youngest Patient is {0} year old {1}, confirmed on {2}.'.format(df['Age'].loc[df['Age'].idxmin()],\n",
    "                                                                       df['Sex'].loc[df['Age'].idxmin()],\n",
    "                                                                       df['DateRepConf'].loc[df['Age'].idxmin()].date()))\n",
    "print('Mean age of cases is {0} while median is {1}. Mode is {2}'.format(round(df['Age'].mean()),\n",
    "                                                                         df['Age'].median(),\n",
    "                                                                         df['Age'].mode().iloc[0]))"
   ]
  },
  {
   "cell_type": "markdown",
   "metadata": {},
   "source": [
    "Let's also look at the extremes and averages for those patients who died."
   ]
  },
  {
   "cell_type": "code",
   "execution_count": null,
   "metadata": {},
   "outputs": [],
   "source": [
    "df_temp = df.loc[df['RemovalType'] == 'Died']\n",
    "print('Oldest Death is {0} year old {1}, confirmed on {2}.'.format(df_temp['Age'].loc[df_temp['Age'].idxmax()],\n",
    "                                                                   df_temp['Sex'].loc[df_temp['Age'].idxmax()],\n",
    "                                                                   df_temp['DateRepConf'].loc[df_temp['Age'].idxmax()].date()))\n",
    "print('Youngest Death is {0} year old {1}, confirmed on {2}.'.format(df_temp['Age'].loc[df_temp['Age'].idxmin()],\n",
    "                                                                     df_temp['Sex'].loc[df_temp['Age'].idxmin()],\n",
    "                                                                     df_temp['DateRepConf'].loc[df_temp['Age'].idxmin()].date()))\n",
    "print('Mean age of deaths is {0} while median is {1}. Mode is {2}'.format(round(df_temp['Age'].mean()),\n",
    "                                                                          df_temp['Age'].median(),\n",
    "                                                                          df_temp['Age'].mode().iloc[0]))\n",
    "df_temp = df_temp[df_temp['DateDied'].notna()]\n",
    "print('Mean days to die is {0} days.'.format((df_temp['DateDied'] - df_temp['DateRepConf']).mean().days))\n",
    "print('Mean days to report death is {0} days.'.format((df_temp['DateRepRem'] - df_temp['DateDied']).mean().days))\n"
   ]
  },
  {
   "cell_type": "markdown",
   "metadata": {},
   "source": [
    "Currently, most people who died of Covid-19 had died even before it is confirmed that they have the disease. The DOH is also in backlog in terms of reporting deaths.\n",
    "\n",
    "Let's now look at the extremes and averages for those patients who recovred."
   ]
  },
  {
   "cell_type": "code",
   "execution_count": null,
   "metadata": {},
   "outputs": [],
   "source": [
    "df_temp = df.loc[df['RemovalType'] == 'Recovered']\n",
    "print('Oldest Recovery is {0} year old {1}, confirmed on {2}.'.format(df_temp['Age'].loc[df_temp['Age'].idxmax()],\n",
    "                                                                      df_temp['Sex'].loc[df_temp['Age'].idxmax()],\n",
    "                                                                      df_temp['DateRepConf'].loc[df_temp['Age'].idxmax()].date()))\n",
    "print('Youngest Recovery is {0} year old {1}, confirmed on {2}.'.format(df_temp['Age'].loc[df_temp['Age'].idxmin()],\n",
    "                                                                        df_temp['Sex'].loc[df_temp['Age'].idxmin()],\n",
    "                                                                        df_temp['DateRepConf'].loc[df_temp['Age'].idxmin()].date()))\n",
    "print('Mean age of recoveries is {0} while median is {1}. Mode is {2}'.format(round(df_temp['Age'].mean()),\n",
    "                                                                              df_temp['Age'].median(),\n",
    "                                                                              df_temp['Age'].mode().iloc[0]))\n",
    "df_temp = df_temp[df_temp['DateRecover'].notna()]\n",
    "print('Mean days to recover is {0} days.'.format((df_temp['DateRecover'] - df_temp['DateRepConf']).mean().days))\n",
    "print('Mean days to report recovery is {0} days.'.format((df_temp['DateRepRem'] - df_temp['DateRecover']).mean().days))\n"
   ]
  },
  {
   "cell_type": "markdown",
   "metadata": {},
   "source": [
    "Let's analyze the cases based on their age."
   ]
  },
  {
   "cell_type": "code",
   "execution_count": null,
   "metadata": {},
   "outputs": [],
   "source": [
    "case_age = confirmed_removed_group(df, 'AgeGroup', 'AgeGroup')\n",
    "target_row = case_age[case_age['AgeGroup'] == '5 to 9'].index.values\n",
    "idx = [0, target_row] + [i for i in range(1, len(case_age)) if i != target_row]\n",
    "case_age = case_age.iloc[idx].set_index('AgeGroup').fillna(0)\n",
    "case_age"
   ]
  },
  {
   "cell_type": "code",
   "execution_count": null,
   "metadata": {},
   "outputs": [],
   "source": [
    "# plot cases per decade\n",
    "case_age_dec = (case_age + case_age.shift(-1))[:-2:2].append(case_age.iloc[-1]).reset_index()\n",
    "case_ages_labels = ['0+', '10s', '20s', '30s', '40s', '50s', '60s', '70s', '80+']\n",
    "\n",
    "fig3 = plt.figure(figsize=(10, 4))\n",
    "ax_count = plt.axes()\n",
    "plt.title('CoVid-19 Cases per Age')\n",
    "ax_count.set_facecolor('#F0EFE7')\n",
    "\n",
    "ax_count.bar(case_age_dec.index, case_age_dec['Confirmed'],\n",
    "             label='Confirmed',\n",
    "             color='#43978d')\n",
    "\n",
    "for i in range(len(case_age_dec)):\n",
    "    ax_count.annotate('%0.f' % case_age_dec['Confirmed'][i],\n",
    "                      xy=(case_age_dec.index[i], case_age_dec['Confirmed'][i]),\n",
    "                      xytext=(-6.5, 1),\n",
    "                      xycoords=('data', 'data'),\n",
    "                      textcoords='offset points',\n",
    "                      fontsize=10)\n",
    "\n",
    "ax_count.yaxis.set_visible(False)\n",
    "\n",
    "ax_percent = ax_count.twinx()\n",
    "\n",
    "ax_percent.plot(case_age_dec.index, (case_age_dec['Death']/case_age_dec['Death'].sum())*100,\n",
    "                marker='o',\n",
    "                label='Death',\n",
    "                color='#d46c4e')\n",
    "ax_percent.plot(case_age_dec.index, (case_age_dec['Recovered']/case_age_dec['Recovered'].sum())*100,\n",
    "                marker='o',\n",
    "                label='Recovered',\n",
    "                color='#264d59')\n",
    "ax_percent.set_xticks(case_age_dec.index)\n",
    "ax_percent.set_xticklabels(case_ages_labels)\n",
    "ax_percent.set_ylim(0, 50)\n",
    "ax_percent.yaxis.set_ticks_position('left')\n",
    "ax_percent.yaxis.set_major_locator(ticker.MultipleLocator(10))\n",
    "ax_percent.set_ylabel('Percent')\n",
    "ax_percent.set_xlabel('Age Group')\n",
    "plt.legend()"
   ]
  },
  {
   "cell_type": "markdown",
   "metadata": {},
   "source": [
    "The graph shows the distribution of cases per decade of age. It tallies with the mean, median and mode we got above. It can be seen that although most the cases are spread at the ages 20 to 70, the top two age group are those in 20s and 30s. Let's look closer at the timeframes on when these cases happened relative to each other."
   ]
  },
  {
   "cell_type": "code",
   "execution_count": null,
   "metadata": {},
   "outputs": [],
   "source": [
    "daily_age = df[['DateRepConf', 'AgeGroup']]\n",
    "daily_age = pd.DataFrame(daily_age.groupby(['DateRepConf', 'AgeGroup']).size().reset_index(name='count'))\n",
    "daily_age = daily_age.pivot(index='DateRepConf', columns='AgeGroup', values='count').rename_axis(None).fillna(0)\n",
    "daily_age_chart = pd.DataFrame(daily_age[['60 to 64', '65 to 69']].sum(axis=1), columns=['60s'])\n",
    "daily_age_chart['70+'] = daily_age[['70 to 74', '75 to 79', '80+']].sum(axis=1)\n",
    "daily_age_chart['20s'] = daily_age[['20 to 24', '25 to 29']].sum(axis=1)\n",
    "daily_age_chart['30s'] = daily_age[['30 to 34', '35 to 39']].sum(axis=1)\n",
    "daily_age_chart['50s'] = daily_age[['50 to 54', '55 to 59']].sum(axis=1)\n",
    "\n",
    "\n",
    "fig5 = plt.figure(figsize=(10, 4))\n",
    "ax = plt.axes()\n",
    "plt.title('Daily Cases per Age Group')\n",
    "ax.set_facecolor('#F0EFE7')\n",
    "\n",
    "ax.plot(daily_age_chart.index.date, daily_age_chart.cumsum())\n",
    "ax.set_xlim(pd.Timestamp('2020-03-01'), daily_age_chart.index[-1])\n",
    "ax.set_xticks([pd.Timestamp('2020-03-01'), pd.Timestamp('2020-03-31'), daily_age_chart.index[-1]])\n",
    "ax.xaxis_date()\n",
    "ax.xaxis.set_major_formatter(mpl_dates.DateFormatter('%b %d'))\n",
    "\n",
    "plt.legend(daily_age_chart.columns, loc='upper left')"
   ]
  },
  {
   "cell_type": "markdown",
   "metadata": {},
   "source": [
    "The graph above shows how the cases evolved over time for the 5 age group. As we can see, the cases for those in their 50s and above almost follows the same shape as the overall cases for the country, while those for ages 20 to 39 rose up since March 31. Early on in this pandemic, the DOH is prioritizing those people in 'vulnerable' sector and age is one of their criteria. There is even a widespread belief that the older you get, the more you are likely to acquire the disease. The rise of cases from those in their 20s and 30s coincides to the time when testing kits are made available to more people and age was removed from the criteria. It just shows that everyone has the same probability of acquiring the disease regardless of their age."
   ]
  },
  {
   "cell_type": "code",
   "execution_count": null,
   "metadata": {},
   "outputs": [],
   "source": [
    "fig4 = plt.figure(figsize=(6, 4))\n",
    "ax = plt.axes()\n",
    "plt.title('Resolved Cases per Age')\n",
    "ax.set_facecolor('#F0EFE7')\n",
    "\n",
    "div_line = (case_age_dec['Death']/(case_age_dec['Death'] + case_age_dec['Recovered']) * 100)\n",
    "ax.plot(case_age_dec.index, div_line, color='#000000')\n",
    "ax.fill_between(case_age_dec.index, 100, div_line, alpha=0.4, color='#264d59')\n",
    "ax.fill_between(case_age_dec.index, div_line, 0, alpha=0.4, color='#d46c4e')\n",
    "ax.set_ylim(0, 100)\n",
    "ax.set_xticklabels(case_ages_labels, rotation='45')\n",
    "ax.set_xticks(case_age_dec.index)\n",
    "ax.set_ylabel('Percent')\n",
    "ax.set_xlabel('Age Group')\n",
    "# ax.xaxis.set_major_locator(case_age.index)\n",
    "ax.set_xlim(case_age_dec.index[::len(case_age_dec) - 1])\n",
    "plt.tight_layout()"
   ]
  },
  {
   "cell_type": "markdown",
   "metadata": {},
   "source": [
    "If age doesn't matter when it comes to acquiring the disease, it is a different story in terms of how cases were resolved. In the figure above, there is a notable difference in the percentage of patients who recover compared to those who died between the younger and older spectrum of our population. The oldest patients even die about 80% of the time. Children and teenagers also shows to be more likely to succumb to the disease compared to those in their 20s and 30s."
   ]
  },
  {
   "cell_type": "markdown",
   "metadata": {},
   "source": [
    "## Testing\n",
    "\n",
    "DOH keeps a different file on reporting their testing. Let's load it and plot the number of unique individual tested per day."
   ]
  },
  {
   "cell_type": "code",
   "execution_count": null,
   "metadata": {},
   "outputs": [],
   "source": [
    "df = pd.read_csv('datafiles\\doh\\DOH COVID Data Drop_ 20200505 - 08 Testing Aggregates.csv',\n",
    "                 parse_dates=['Date'], thousands=',')\n",
    "\n",
    "df.head(5)"
   ]
  },
  {
   "cell_type": "code",
   "execution_count": null,
   "metadata": {},
   "outputs": [],
   "source": [
    "columns = [col for col in df.columns if col not in ['Name of Health Facility/Laboratory', 'Abbrev of Health Facility',\n",
    "                                                    'Date']]\n",
    "for column in columns:\n",
    "    df[column] = pd.to_numeric(df[column], errors='coerce', downcast='float')\n",
    "# df = df.apply(pd.to_numeric, errors='ignore', downcast='float')\n",
    "test_dates = df.groupby(['Date']).sum() #.reset_index()\n",
    "test_daily = (test_dates - test_dates.shift(1))[1:]"
   ]
  },
  {
   "cell_type": "code",
   "execution_count": null,
   "metadata": {},
   "outputs": [],
   "source": [
    "def regress_line_time(y):\n",
    "    x = np.arange(len(y)).reshape(-1, 1)\n",
    "    linear_regressor = LinearRegression()  # create object for the class\n",
    "    linear_regressor.fit(x, y)  # perform linear regression\n",
    "    y_pred = linear_regressor.predict(x)  # make predictions\n",
    "    return y_pred"
   ]
  },
  {
   "cell_type": "code",
   "execution_count": null,
   "metadata": {},
   "outputs": [],
   "source": [
    "fig7 = plt.figure(figsize=(10, 4))\n",
    "ax_unique = plt.axes()\n",
    "plt.title('Unique People Tested per day')\n",
    "ax_unique.set_facecolor('#F0EFE7')\n",
    "\n",
    "ax_unique.plot(test_daily.index, test_daily['UNIQUE INDIVIDUALS TESTED'], color='#264d59')\n",
    "regress_line = regress_line_time(test_daily['UNIQUE INDIVIDUALS TESTED'].values.reshape(-1, 1))\n",
    "ax_unique.plot(test_daily.index, regress_line, color='#d46c4e')\n",
    "ax_unique.xaxis.set_major_formatter(mpl_dates.DateFormatter('%b %d'))  # format dates as Month-Day eg Mar 01\n",
    "ax_unique.set_xticks([test_daily.index[0], test_daily.index[-1]])\n",
    "ax_unique.set_ylim(0, 8500)\n",
    "ax_unique.set_yticks([0, 4000, 8000])\n",
    "ax_unique.grid(axis='y', color='#dcd6cd', linestyle='dotted', linewidth=1)"
   ]
  },
  {
   "cell_type": "markdown",
   "metadata": {},
   "source": [
    "Overall, we are generally increasing the number of individuals being tested as shown by the upward movement of the red regression line. However, we are still a long way from the target 8000 people tested daily. News says that four new megaswabbing facilities will be upped within the month that can bring the number close to 30,000 individuals tested per day."
   ]
  }
 ],
 "metadata": {
  "kernelspec": {
   "display_name": "Python 3",
   "language": "python",
   "name": "python3"
  },
  "language_info": {
   "codemirror_mode": {
    "name": "ipython",
    "version": 3
   },
   "file_extension": ".py",
   "mimetype": "text/x-python",
   "name": "python",
   "nbconvert_exporter": "python",
   "pygments_lexer": "ipython3",
   "version": "3.7.6-final"
  }
 },
 "nbformat": 4,
 "nbformat_minor": 4
}