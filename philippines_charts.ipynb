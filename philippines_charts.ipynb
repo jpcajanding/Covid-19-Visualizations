{
 "cells": [
  {
   "cell_type": "code",
   "execution_count": 1,
   "metadata": {},
   "outputs": [],
   "source": [
    "import numpy as np\n",
    "import pandas as pd\n",
    "import matplotlib.pyplot as plt\n",
    "import matplotlib.ticker as ticker\n",
    "import matplotlib.dates as mpl_dates\n",
    "from sklearn.linear_model import LinearRegression"
   ]
  },
  {
   "cell_type": "markdown",
   "metadata": {},
   "source": [
    "# Visualizing and Analyzing Covid-19 Data for the Philippines"
   ]
  },
  {
   "cell_type": "markdown",
   "metadata": {},
   "source": [
    "Disclaimer: Anything published in here are primarily based on data only and are done without any expertise in medicine or epidemiology. This is published for learning purposes only.\n",
    "\n",
    "Data comes from the officially published data of the Department of Health in their data dump at https://drive.google.com/open?id=10VkiUA8x7TS2jkibhSZK1gmWxFM-EoZP and is subject to their Policy and Confidentiality Guidelines."
   ]
  },
  {
   "cell_type": "markdown",
   "metadata": {},
   "source": [
    "Load the data from a csv file in the data folder (updated every 7 PM Philippine Time) and examine the contents"
   ]
  },
  {
   "cell_type": "code",
   "execution_count": 2,
   "metadata": {},
   "outputs": [
    {
     "output_type": "stream",
     "name": "stdout",
     "text": "CaseCode   Age  AgeGroup     Sex DateRepConf DateRecover DateDied  \\\n0  C100119  30.0  30 to 34    Male  2020-04-12         NaT      NaT   \n1  C100264  57.0  55 to 59    Male  2020-03-29         NaT      NaT   \n2  C100648  33.0  30 to 34  Female  2020-04-16         NaT      NaT   \n3  C100660  42.0  40 to 44  Female  2020-04-02         NaT      NaT   \n4  C100776  42.0  40 to 44    Male  2020-04-01         NaT      NaT   \n\n  RemovalType DateRepRem Admitted RegionRes ProvRes           CityMunRes  \\\n0         NaN        NaT      Yes       NCR     NCR    City of Parañaque   \n1         NaN        NaT      Yes       NCR     NCR  City of Mandaluyong   \n2         NaN        NaT      Yes       NCR     NCR          Quezon City   \n3         NaN        NaT      Yes       NCR     NCR        City of Pasig   \n4         NaN        NaT      Yes        4A  Laguna                 Pila   \n\n    RegionPSGC     ProvPSGC CityMuniPSGC  HealthStatus Quarantined  \n0  PH130000000  PH137600000  PH137604000  Asymptomatic          No  \n1  PH130000000  PH137400000  PH137401000          Mild         NaN  \n2  PH130000000  PH137400000  PH137404000          Mild         Yes  \n3  PH130000000  PH137400000  PH137403000  Asymptomatic         Yes  \n4  PH040000000  PH043400000  PH043422000          Mild         NaN  \n"
    }
   ],
   "source": [
    "df = pd.read_csv('datafiles\\doh\\DOH COVID Data Drop_ 20200503 - 05 Case Information.csv',\n",
    "                 parse_dates=['DateRepConf', 'DateRecover', 'DateDied', 'DateRepRem'])\n",
    "\n",
    "print(df.head(5))"
   ]
  },
  {
   "cell_type": "code",
   "execution_count": null,
   "metadata": {},
   "outputs": [],
   "source": []
  }
 ],
 "metadata": {
  "kernelspec": {
   "display_name": "Python 3",
   "language": "python",
   "name": "python3"
  },
  "language_info": {
   "codemirror_mode": {
    "name": "ipython",
    "version": 3
   },
   "file_extension": ".py",
   "mimetype": "text/x-python",
   "name": "python",
   "nbconvert_exporter": "python",
   "pygments_lexer": "ipython3",
   "version": "3.7.6-final"
  }
 },
 "nbformat": 4,
 "nbformat_minor": 4
}