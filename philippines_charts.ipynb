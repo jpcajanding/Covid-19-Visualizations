{
 "cells": [
  {
   "cell_type": "code",
   "execution_count": 4,
   "metadata": {},
   "outputs": [],
   "source": [
    "import numpy as np\n",
    "import pandas as pd\n",
    "import matplotlib.pyplot as plt\n",
    "import matplotlib.ticker as ticker\n",
    "import matplotlib.dates as mpl_dates\n",
    "from sklearn.linear_model import LinearRegression"
   ]
  },
  {
   "cell_type": "markdown",
   "metadata": {},
   "source": [
    "# Visualizing and Analyzing Covid-19 Data for the Philippines"
   ]
  },
  {
   "cell_type": "markdown",
   "metadata": {},
   "source": [
    "Disclaimer: Anything published in here are primarily based on data only and are done without any expertise in medicine or epidemiology. This is published for learning purposes only.\n",
    "\n",
    "Data comes from the officially published data of the Department of Health in their data dump at https://drive.google.com/open?id=10VkiUA8x7TS2jkibhSZK1gmWxFM-EoZP and is subject to their Policy and Confidentiality Guidelines."
   ]
  },
  {
   "cell_type": "markdown",
   "metadata": {},
   "source": [
    "Load the data from a csv file in the data folder (updated every 7 PM Philippine Time) and examine the contents"
   ]
  },
  {
   "cell_type": "code",
   "execution_count": 5,
   "metadata": {},
   "outputs": [
    {
     "output_type": "execute_result",
     "data": {
      "text/plain": "  CaseCode   Age  AgeGroup     Sex DateRepConf DateRecover DateDied  \\\n0  C100119  30.0  30 to 34    Male  2020-04-12         NaT      NaT   \n1  C100264  57.0  55 to 59    Male  2020-03-29         NaT      NaT   \n2  C100648  33.0  30 to 34  Female  2020-04-16         NaT      NaT   \n3  C100660  42.0  40 to 44  Female  2020-04-02         NaT      NaT   \n4  C100776  42.0  40 to 44    Male  2020-04-01         NaT      NaT   \n\n  RemovalType DateRepRem Admitted RegionRes ProvRes           CityMunRes  \\\n0         NaN        NaT      Yes       NCR     NCR    City of Parañaque   \n1         NaN        NaT      Yes       NCR     NCR  City of Mandaluyong   \n2         NaN        NaT      Yes       NCR     NCR          Quezon City   \n3         NaN        NaT      Yes       NCR     NCR        City of Pasig   \n4         NaN        NaT      Yes        4A  Laguna                 Pila   \n\n    RegionPSGC     ProvPSGC CityMuniPSGC  HealthStatus Quarantined  \n0  PH130000000  PH137600000  PH137604000  Asymptomatic          No  \n1  PH130000000  PH137400000  PH137401000          Mild         NaN  \n2  PH130000000  PH137400000  PH137404000          Mild         Yes  \n3  PH130000000  PH137400000  PH137403000  Asymptomatic         Yes  \n4  PH040000000  PH043400000  PH043422000          Mild         NaN  ",
      "text/html": "<div>\n<style scoped>\n    .dataframe tbody tr th:only-of-type {\n        vertical-align: middle;\n    }\n\n    .dataframe tbody tr th {\n        vertical-align: top;\n    }\n\n    .dataframe thead th {\n        text-align: right;\n    }\n</style>\n<table border=\"1\" class=\"dataframe\">\n  <thead>\n    <tr style=\"text-align: right;\">\n      <th></th>\n      <th>CaseCode</th>\n      <th>Age</th>\n      <th>AgeGroup</th>\n      <th>Sex</th>\n      <th>DateRepConf</th>\n      <th>DateRecover</th>\n      <th>DateDied</th>\n      <th>RemovalType</th>\n      <th>DateRepRem</th>\n      <th>Admitted</th>\n      <th>RegionRes</th>\n      <th>ProvRes</th>\n      <th>CityMunRes</th>\n      <th>RegionPSGC</th>\n      <th>ProvPSGC</th>\n      <th>CityMuniPSGC</th>\n      <th>HealthStatus</th>\n      <th>Quarantined</th>\n    </tr>\n  </thead>\n  <tbody>\n    <tr>\n      <th>0</th>\n      <td>C100119</td>\n      <td>30.0</td>\n      <td>30 to 34</td>\n      <td>Male</td>\n      <td>2020-04-12</td>\n      <td>NaT</td>\n      <td>NaT</td>\n      <td>NaN</td>\n      <td>NaT</td>\n      <td>Yes</td>\n      <td>NCR</td>\n      <td>NCR</td>\n      <td>City of Parañaque</td>\n      <td>PH130000000</td>\n      <td>PH137600000</td>\n      <td>PH137604000</td>\n      <td>Asymptomatic</td>\n      <td>No</td>\n    </tr>\n    <tr>\n      <th>1</th>\n      <td>C100264</td>\n      <td>57.0</td>\n      <td>55 to 59</td>\n      <td>Male</td>\n      <td>2020-03-29</td>\n      <td>NaT</td>\n      <td>NaT</td>\n      <td>NaN</td>\n      <td>NaT</td>\n      <td>Yes</td>\n      <td>NCR</td>\n      <td>NCR</td>\n      <td>City of Mandaluyong</td>\n      <td>PH130000000</td>\n      <td>PH137400000</td>\n      <td>PH137401000</td>\n      <td>Mild</td>\n      <td>NaN</td>\n    </tr>\n    <tr>\n      <th>2</th>\n      <td>C100648</td>\n      <td>33.0</td>\n      <td>30 to 34</td>\n      <td>Female</td>\n      <td>2020-04-16</td>\n      <td>NaT</td>\n      <td>NaT</td>\n      <td>NaN</td>\n      <td>NaT</td>\n      <td>Yes</td>\n      <td>NCR</td>\n      <td>NCR</td>\n      <td>Quezon City</td>\n      <td>PH130000000</td>\n      <td>PH137400000</td>\n      <td>PH137404000</td>\n      <td>Mild</td>\n      <td>Yes</td>\n    </tr>\n    <tr>\n      <th>3</th>\n      <td>C100660</td>\n      <td>42.0</td>\n      <td>40 to 44</td>\n      <td>Female</td>\n      <td>2020-04-02</td>\n      <td>NaT</td>\n      <td>NaT</td>\n      <td>NaN</td>\n      <td>NaT</td>\n      <td>Yes</td>\n      <td>NCR</td>\n      <td>NCR</td>\n      <td>City of Pasig</td>\n      <td>PH130000000</td>\n      <td>PH137400000</td>\n      <td>PH137403000</td>\n      <td>Asymptomatic</td>\n      <td>Yes</td>\n    </tr>\n    <tr>\n      <th>4</th>\n      <td>C100776</td>\n      <td>42.0</td>\n      <td>40 to 44</td>\n      <td>Male</td>\n      <td>2020-04-01</td>\n      <td>NaT</td>\n      <td>NaT</td>\n      <td>NaN</td>\n      <td>NaT</td>\n      <td>Yes</td>\n      <td>4A</td>\n      <td>Laguna</td>\n      <td>Pila</td>\n      <td>PH040000000</td>\n      <td>PH043400000</td>\n      <td>PH043422000</td>\n      <td>Mild</td>\n      <td>NaN</td>\n    </tr>\n  </tbody>\n</table>\n</div>"
     },
     "metadata": {},
     "execution_count": 5
    }
   ],
   "source": [
    "df = pd.read_csv('datafiles\\doh\\DOH COVID Data Drop_ 20200504 - 05 Case Information.csv',\n",
    "                 parse_dates=['DateRepConf', 'DateRecover', 'DateDied', 'DateRepRem'])\n",
    "\n",
    "df.head(5)"
   ]
  },
  {
   "cell_type": "code",
   "execution_count": 6,
   "metadata": {},
   "outputs": [],
   "source": [
    "n = 5\n",
    "day_case = pd.DataFrame(df['DateRepConf'])\n",
    "day_case = pd.DataFrame(day_case.groupby('DateRepConf')['DateRepConf'].count().reset_index(name='Confirmed'))\n",
    "df_removed = df[df['RemovalType'].notna()]\n",
    "df_removed = df_removed[['RemovalType', 'DateRepRem']]\n",
    "df_removed = pd.DataFrame(df_removed.groupby(['DateRepRem', 'RemovalType']).size().reset_index(name='count'))\n",
    "df_deaths = df_removed[df_removed['RemovalType'] == 'Died'].drop(columns='RemovalType').rename(columns={'count': 'Death'})\n",
    "df_recovered = df_removed[df_removed['RemovalType'] == 'Recovered'].drop(columns='RemovalType').rename(columns={'count': 'Recovered'})\n",
    "del df_removed\n",
    "cases_time_series = pd.merge(day_case, df_deaths, how='left', left_on='DateRepConf', right_on='DateRepRem')\n",
    "cases_time_series = pd.merge(cases_time_series, df_recovered, how='left', left_on='DateRepConf', right_on='DateRepRem')\n",
    "cases_time_series = cases_time_series.drop(columns=['DateRepRem_x', 'DateRepRem_y']).set_index('DateRepConf').fillna(0)\n",
    "del[day_case,df_deaths,df_recovered]\n",
    "max_bars = cases_time_series.nlargest(n, ['Confirmed'])"
   ]
  },
  {
   "cell_type": "code",
   "execution_count": null,
   "metadata": {},
   "outputs": [],
   "source": []
  }
 ],
 "metadata": {
  "kernelspec": {
   "display_name": "Python 3",
   "language": "python",
   "name": "python3"
  },
  "language_info": {
   "codemirror_mode": {
    "name": "ipython",
    "version": 3
   },
   "file_extension": ".py",
   "mimetype": "text/x-python",
   "name": "python",
   "nbconvert_exporter": "python",
   "pygments_lexer": "ipython3",
   "version": "3.7.6-final"
  }
 },
 "nbformat": 4,
 "nbformat_minor": 4
}